{
  "nbformat": 4,
  "nbformat_minor": 0,
  "metadata": {
    "colab": {
      "provenance": []
    },
    "kernelspec": {
      "name": "python3",
      "display_name": "Python 3"
    },
    "language_info": {
      "name": "python"
    }
  },
  "cells": [
    {
      "cell_type": "code",
      "execution_count": null,
      "metadata": {
        "id": "E-Gqa77px3Zw"
      },
      "outputs": [],
      "source": []
    },
    {
      "cell_type": "markdown",
      "source": [
        "PYTHON Koşul Yapıları\n",
        "\n",
        "if Koşul yapısı -> belirtilen şart doğruysa (True) bir bloğun çalıştırılmasını sağlamaktadır.\n",
        "\n",
        "if-else Koşul yapısı -> if bloğu sağlanmazsa, else bloğu çalıştırılır.\n",
        "\n",
        "\n",
        "if-elif-else Koşul yapısı -> Birden fazla koşul kontrol etmek için elif (else if) kullanılır.\n",
        "\n",
        " İlk doğru koşul bulunana kadar kontrol devam eder. Hiçbiri doğru değilse, else bloğu çalıştırılır.\n",
        "İç İçe Koşullar\n"
      ],
      "metadata": {
        "id": "XZr_ptG7yNXa"
      }
    },
    {
      "cell_type": "code",
      "source": [
        "#İf koşul yapısı\n",
        "x=15\n",
        "if x>15:\n",
        "    print(\"x sayısı 15'ten büyüktür.\")\n"
      ],
      "metadata": {
        "id": "Qjry0ncvyZwp"
      },
      "execution_count": 9,
      "outputs": []
    },
    {
      "cell_type": "code",
      "source": [
        "# if-else koşul yapısı\n",
        "\n",
        "x=3\n",
        "if x>15: #Eger x değeri 15 sayısından büyükse çalışır.\n",
        "    print(\"x sayısı 15'ten büyüktür.\")\n",
        "\n",
        "else: #Yukarıdaki koşulu sağlamıyorsa çalışır.\n",
        "    print(\"x sayısı 15'ten küçüktür.\")"
      ],
      "metadata": {
        "colab": {
          "base_uri": "https://localhost:8080/"
        },
        "id": "sHz-miUu0-k7",
        "outputId": "f143b45e-d97a-4220-fd0f-8fa1947e36fd"
      },
      "execution_count": 11,
      "outputs": [
        {
          "output_type": "stream",
          "name": "stdout",
          "text": [
            "x sayısı 15'ten küçüktür.\n"
          ]
        }
      ]
    },
    {
      "cell_type": "code",
      "source": [
        "# if-elif-else yapısı\n",
        "\n",
        "x=15\n",
        "y=20\n",
        "\n",
        "if x>10:\n",
        "    print(\"x sayısı 10'dan büyüktür.\") #Eger x değeri 10'dan büyükse çalışır.\n",
        "    if y>15:\n",
        "        print(\" y sayısı 15'ten büyüktür.\") #Eger y değeri 15'ten büyükse çalışır.\n",
        "    else:\n",
        "        print(\"y sayısı 15'ten küçüktür.\")\n",
        "elif x<10:\n",
        "    print(\"x sayısı 10'dan küçüktür.\")\n",
        "\n",
        "else:\n",
        "    print(\"x sayısı 10'dan küçüktür.\")"
      ],
      "metadata": {
        "colab": {
          "base_uri": "https://localhost:8080/"
        },
        "id": "uQPf5FeM0-vS",
        "outputId": "d31c771e-7979-48b0-9afd-9ccbe720217f"
      },
      "execution_count": 14,
      "outputs": [
        {
          "output_type": "stream",
          "name": "stdout",
          "text": [
            "x sayısı 10'dan büyüktür.\n",
            " y sayısı 15'ten büyüktür.\n"
          ]
        }
      ]
    },
    {
      "cell_type": "code",
      "source": [
        "#Mantıksal operatörler ile koşullar\n",
        "x= 5\n",
        "y=15\n",
        "\n",
        "if x>3 and y>10: #Her iki koşul da doğruysa çalışır.\n",
        "    print(\"x sayısı 3 ten büyüktür ve y sayısı 10 dan büyüktür.\")\n",
        "\n",
        "\n",
        "# or operatörü ile\n",
        "if x>10 or y>10:\n",
        "    print(\"x veya y sayısı 10 dan büyüktür \")\n",
        "\n",
        "#not operatörü\n",
        "if not x>10:\n",
        "  print(\"x sayısı 10 dan büyük değildir\")"
      ],
      "metadata": {
        "colab": {
          "base_uri": "https://localhost:8080/"
        },
        "id": "zb9avUFl4Y7K",
        "outputId": "f4275fc3-78c0-48cc-e787-ee19a5aa26de"
      },
      "execution_count": 18,
      "outputs": [
        {
          "output_type": "stream",
          "name": "stdout",
          "text": [
            "x sayısı 3 ten büyüktür ve y sayısı 10 dan büyüktür.\n",
            "x veya y sayısı 10 dan büyüktür \n",
            "x sayısı 10 dan büyük değildir\n"
          ]
        }
      ]
    },
    {
      "cell_type": "code",
      "source": [
        "#Örnek -Not Kontrol sistemi\n",
        "\n",
        "Not = 85\n",
        "if Not>90:\n",
        "    print(\"AA\") #Eger not 90 dan büyükse çalışır.\n",
        "elif Not>80:\n",
        "    print(\"BA\") #Eger not 80 dan büyükse çalışır.\n",
        "elif Not>70:\n",
        "    print(\"BB\") #Eger not 70 dan büyükse çalışır.\n",
        "elif Not>60:\n",
        "    print(\"CB\") #Eger not 60 dan büyükse çalışır.\n",
        "elif Not>50:\n",
        "    print(\"CC\") #Eger not 50 dan büyükse çalışır.\n",
        "else:\n",
        "    print(\"Kaldınız\") #Eger yukarıdaki koşullar sağlanmıyorsa çalışır."
      ],
      "metadata": {
        "colab": {
          "base_uri": "https://localhost:8080/"
        },
        "id": "SaKmA_J94Y-M",
        "outputId": "7891df2a-8326-4c53-e68a-fc6c045675ba"
      },
      "execution_count": 19,
      "outputs": [
        {
          "output_type": "stream",
          "name": "stdout",
          "text": [
            "BA\n"
          ]
        }
      ]
    },
    {
      "cell_type": "code",
      "source": [
        "#örnek-2\n",
        "yas=20\n",
        "if yas>=18:\n",
        "    print(\"reşitsiniz\") #Eger yas değeri 18 den büyükse çalışır.\n",
        "else:\n",
        "    print(\"reşit değilsiniz\") #Eger yukarıdaki koşul sağlanmıyorsa çalışır.\n"
      ],
      "metadata": {
        "colab": {
          "base_uri": "https://localhost:8080/"
        },
        "id": "-uDMS9jP4ZB6",
        "outputId": "e41aebb8-0f17-4e9f-8c8d-4c45ca4baaec"
      },
      "execution_count": 20,
      "outputs": [
        {
          "output_type": "stream",
          "name": "stdout",
          "text": [
            "reşitsiniz\n"
          ]
        }
      ]
    },
    {
      "cell_type": "code",
      "source": [
        "#Sayı pozitip mi Negatif mi ?\n",
        "#İnput-- Kullanıcıdan değer almak için kullanılır.\n",
        "sayi=int(input(\"Bir sayı giriniz:\"))\n",
        "\n",
        "if sayi>0:\n",
        "    print(\"Sayi pozitiftir\") #Eger sayi değeri 0 dan büyükse çalışır.\n",
        "elif sayi==0:\n",
        "    print(\"Sayi nötr'dür\")  #Eger sayi değeri 0 a eşitse çalışır.\n",
        "else:\n",
        "    print(\"Sayi negatiftir\") #Eger yukarıdaki koşullar sağlanmıyorsa çalışır."
      ],
      "metadata": {
        "colab": {
          "base_uri": "https://localhost:8080/"
        },
        "id": "uoFXFDJXHCSN",
        "outputId": "f52c8e89-1e0d-45c7-9c71-ae83ee369265"
      },
      "execution_count": 22,
      "outputs": [
        {
          "output_type": "stream",
          "name": "stdout",
          "text": [
            "Bir sayı giriniz:-15\n",
            "Sayi negatiftir\n"
          ]
        }
      ]
    },
    {
      "cell_type": "code",
      "source": [],
      "metadata": {
        "id": "fbyvvDcQHCU1"
      },
      "execution_count": null,
      "outputs": []
    }
  ]
}